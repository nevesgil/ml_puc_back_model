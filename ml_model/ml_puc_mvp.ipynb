{
  "cells": [
    {
      "cell_type": "markdown",
      "metadata": {
        "id": "Skwg_WUrzMls"
      },
      "source": [
        "**SPACESHIP TITANIC**\n",
        "\n",
        "**PUC MVP ENGENHARIA DE SOFTARE**\n",
        "\n",
        "GILMAR NEVES\n",
        "\n",
        "\n",
        "\n",
        "---\n",
        "\n"
      ]
    },
    {
      "cell_type": "markdown",
      "metadata": {
        "id": "J12FChHmzjha"
      },
      "source": [
        "**INITIAL SETTINGS AND IMPORTS**"
      ]
    },
    {
      "cell_type": "code",
      "execution_count": 61,
      "metadata": {
        "id": "SNQ8P0yBMYrX"
      },
      "outputs": [],
      "source": [
        "import pandas as pd\n",
        "from matplotlib import pyplot as plt\n",
        "import seaborn as sns\n",
        "from sklearn.preprocessing import LabelEncoder\n",
        "import numpy as np\n",
        "from sklearn.model_selection import train_test_split\n",
        "import pathlib\n",
        "from sklearn.neighbors import KNeighborsClassifier\n",
        "from sklearn.tree import DecisionTreeClassifier\n",
        "from sklearn.naive_bayes import GaussianNB\n",
        "from sklearn.svm import SVC\n",
        "from sklearn.metrics import accuracy_score, classification_report, confusion_matrix\n",
        "from sklearn.preprocessing import StandardScaler\n",
        "from sklearn.pipeline import Pipeline\n",
        "from sklearn.compose import ColumnTransformer\n",
        "from sklearn.model_selection import GridSearchCV"
      ]
    },
    {
      "cell_type": "code",
      "execution_count": 62,
      "metadata": {
        "colab": {
          "base_uri": "https://localhost:8080/",
          "height": 313
        },
        "id": "u1dbvHA3y3wq",
        "outputId": "ef580a55-8645-40b8-b149-24c1172bbba7"
      },
      "outputs": [
        {
          "data": {
            "text/html": [
              "<div>\n",
              "<style scoped>\n",
              "    .dataframe tbody tr th:only-of-type {\n",
              "        vertical-align: middle;\n",
              "    }\n",
              "\n",
              "    .dataframe tbody tr th {\n",
              "        vertical-align: top;\n",
              "    }\n",
              "\n",
              "    .dataframe thead th {\n",
              "        text-align: right;\n",
              "    }\n",
              "</style>\n",
              "<table border=\"1\" class=\"dataframe\">\n",
              "  <thead>\n",
              "    <tr style=\"text-align: right;\">\n",
              "      <th></th>\n",
              "      <th>PassengerId</th>\n",
              "      <th>HomePlanet</th>\n",
              "      <th>CryoSleep</th>\n",
              "      <th>Cabin</th>\n",
              "      <th>Destination</th>\n",
              "      <th>Age</th>\n",
              "      <th>VIP</th>\n",
              "      <th>RoomService</th>\n",
              "      <th>FoodCourt</th>\n",
              "      <th>ShoppingMall</th>\n",
              "      <th>Spa</th>\n",
              "      <th>VRDeck</th>\n",
              "      <th>Name</th>\n",
              "      <th>Transported</th>\n",
              "    </tr>\n",
              "  </thead>\n",
              "  <tbody>\n",
              "    <tr>\n",
              "      <th>0</th>\n",
              "      <td>0001_01</td>\n",
              "      <td>Europa</td>\n",
              "      <td>False</td>\n",
              "      <td>B/0/P</td>\n",
              "      <td>TRAPPIST-1e</td>\n",
              "      <td>39.0</td>\n",
              "      <td>False</td>\n",
              "      <td>0.0</td>\n",
              "      <td>0.0</td>\n",
              "      <td>0.0</td>\n",
              "      <td>0.0</td>\n",
              "      <td>0.0</td>\n",
              "      <td>Maham Ofracculy</td>\n",
              "      <td>False</td>\n",
              "    </tr>\n",
              "    <tr>\n",
              "      <th>1</th>\n",
              "      <td>0002_01</td>\n",
              "      <td>Earth</td>\n",
              "      <td>False</td>\n",
              "      <td>F/0/S</td>\n",
              "      <td>TRAPPIST-1e</td>\n",
              "      <td>24.0</td>\n",
              "      <td>False</td>\n",
              "      <td>109.0</td>\n",
              "      <td>9.0</td>\n",
              "      <td>25.0</td>\n",
              "      <td>549.0</td>\n",
              "      <td>44.0</td>\n",
              "      <td>Juanna Vines</td>\n",
              "      <td>True</td>\n",
              "    </tr>\n",
              "    <tr>\n",
              "      <th>2</th>\n",
              "      <td>0003_01</td>\n",
              "      <td>Europa</td>\n",
              "      <td>False</td>\n",
              "      <td>A/0/S</td>\n",
              "      <td>TRAPPIST-1e</td>\n",
              "      <td>58.0</td>\n",
              "      <td>True</td>\n",
              "      <td>43.0</td>\n",
              "      <td>3576.0</td>\n",
              "      <td>0.0</td>\n",
              "      <td>6715.0</td>\n",
              "      <td>49.0</td>\n",
              "      <td>Altark Susent</td>\n",
              "      <td>False</td>\n",
              "    </tr>\n",
              "    <tr>\n",
              "      <th>3</th>\n",
              "      <td>0003_02</td>\n",
              "      <td>Europa</td>\n",
              "      <td>False</td>\n",
              "      <td>A/0/S</td>\n",
              "      <td>TRAPPIST-1e</td>\n",
              "      <td>33.0</td>\n",
              "      <td>False</td>\n",
              "      <td>0.0</td>\n",
              "      <td>1283.0</td>\n",
              "      <td>371.0</td>\n",
              "      <td>3329.0</td>\n",
              "      <td>193.0</td>\n",
              "      <td>Solam Susent</td>\n",
              "      <td>False</td>\n",
              "    </tr>\n",
              "    <tr>\n",
              "      <th>4</th>\n",
              "      <td>0004_01</td>\n",
              "      <td>Earth</td>\n",
              "      <td>False</td>\n",
              "      <td>F/1/S</td>\n",
              "      <td>TRAPPIST-1e</td>\n",
              "      <td>16.0</td>\n",
              "      <td>False</td>\n",
              "      <td>303.0</td>\n",
              "      <td>70.0</td>\n",
              "      <td>151.0</td>\n",
              "      <td>565.0</td>\n",
              "      <td>2.0</td>\n",
              "      <td>Willy Santantines</td>\n",
              "      <td>True</td>\n",
              "    </tr>\n",
              "  </tbody>\n",
              "</table>\n",
              "</div>"
            ],
            "text/plain": [
              "  PassengerId HomePlanet CryoSleep  Cabin  Destination   Age    VIP  \\\n",
              "0     0001_01     Europa     False  B/0/P  TRAPPIST-1e  39.0  False   \n",
              "1     0002_01      Earth     False  F/0/S  TRAPPIST-1e  24.0  False   \n",
              "2     0003_01     Europa     False  A/0/S  TRAPPIST-1e  58.0   True   \n",
              "3     0003_02     Europa     False  A/0/S  TRAPPIST-1e  33.0  False   \n",
              "4     0004_01      Earth     False  F/1/S  TRAPPIST-1e  16.0  False   \n",
              "\n",
              "   RoomService  FoodCourt  ShoppingMall     Spa  VRDeck               Name  \\\n",
              "0          0.0        0.0           0.0     0.0     0.0    Maham Ofracculy   \n",
              "1        109.0        9.0          25.0   549.0    44.0       Juanna Vines   \n",
              "2         43.0     3576.0           0.0  6715.0    49.0      Altark Susent   \n",
              "3          0.0     1283.0         371.0  3329.0   193.0       Solam Susent   \n",
              "4        303.0       70.0         151.0   565.0     2.0  Willy Santantines   \n",
              "\n",
              "   Transported  \n",
              "0        False  \n",
              "1         True  \n",
              "2        False  \n",
              "3        False  \n",
              "4         True  "
            ]
          },
          "execution_count": 62,
          "metadata": {},
          "output_type": "execute_result"
        }
      ],
      "source": [
        "filepath = './train.csv'\n",
        "df = pd.read_csv(filepath)\n",
        "df.head()"
      ]
    },
    {
      "cell_type": "code",
      "execution_count": 63,
      "metadata": {
        "colab": {
          "base_uri": "https://localhost:8080/"
        },
        "id": "iT7l8DIN-keb",
        "outputId": "2f4bd9e0-4eb4-4737-bf0e-afe9d2fcd5d6"
      },
      "outputs": [
        {
          "name": "stdout",
          "output_type": "stream",
          "text": [
            "Categorical Variables\n",
            "PassengerId\n",
            "HomePlanet\n",
            "CryoSleep\n",
            "Cabin\n",
            "Destination\n",
            "VIP\n",
            "Name\n"
          ]
        }
      ],
      "source": [
        "print(\"Categorical Variables\")\n",
        "categorical_variables = df.select_dtypes(include=['object']).columns\n",
        "for col in categorical_variables:\n",
        "    print(col)"
      ]
    },
    {
      "cell_type": "code",
      "execution_count": 64,
      "metadata": {
        "colab": {
          "base_uri": "https://localhost:8080/"
        },
        "id": "lyflZE7g-kXU",
        "outputId": "14bdd013-f1eb-4bf5-b0ea-c77014459c62"
      },
      "outputs": [
        {
          "name": "stdout",
          "output_type": "stream",
          "text": [
            "Numerical Variables\n",
            "Age\n",
            "RoomService\n",
            "FoodCourt\n",
            "ShoppingMall\n",
            "Spa\n",
            "VRDeck\n",
            "Transported\n"
          ]
        }
      ],
      "source": [
        "print(\"Numerical Variables\")\n",
        "numerical_variables = df._get_numeric_data().columns\n",
        "for col in numerical_variables:\n",
        "    print(col)"
      ]
    },
    {
      "cell_type": "code",
      "execution_count": 65,
      "metadata": {
        "colab": {
          "base_uri": "https://localhost:8080/",
          "height": 543
        },
        "id": "UtIu6KYa-kOs",
        "outputId": "25b49e09-f02f-4250-ee63-4e15b3e24193"
      },
      "outputs": [
        {
          "data": {
            "text/plain": [
              "PassengerId      object\n",
              "HomePlanet       object\n",
              "CryoSleep        object\n",
              "Cabin            object\n",
              "Destination      object\n",
              "Age             float64\n",
              "VIP              object\n",
              "RoomService     float64\n",
              "FoodCourt       float64\n",
              "ShoppingMall    float64\n",
              "Spa             float64\n",
              "VRDeck          float64\n",
              "Name             object\n",
              "Transported        bool\n",
              "dtype: object"
            ]
          },
          "execution_count": 65,
          "metadata": {},
          "output_type": "execute_result"
        }
      ],
      "source": [
        "df.dtypes"
      ]
    },
    {
      "cell_type": "code",
      "execution_count": 66,
      "metadata": {
        "colab": {
          "base_uri": "https://localhost:8080/",
          "height": 508
        },
        "id": "WM5MikyL-kGL",
        "outputId": "76422e29-11f1-4a2f-ee41-a61811b20d62"
      },
      "outputs": [
        {
          "data": {
            "text/html": [
              "<div>\n",
              "<style scoped>\n",
              "    .dataframe tbody tr th:only-of-type {\n",
              "        vertical-align: middle;\n",
              "    }\n",
              "\n",
              "    .dataframe tbody tr th {\n",
              "        vertical-align: top;\n",
              "    }\n",
              "\n",
              "    .dataframe thead th {\n",
              "        text-align: right;\n",
              "    }\n",
              "</style>\n",
              "<table border=\"1\" class=\"dataframe\">\n",
              "  <thead>\n",
              "    <tr style=\"text-align: right;\">\n",
              "      <th></th>\n",
              "      <th>#nulls</th>\n",
              "    </tr>\n",
              "  </thead>\n",
              "  <tbody>\n",
              "    <tr>\n",
              "      <th>PassengerId</th>\n",
              "      <td>0</td>\n",
              "    </tr>\n",
              "    <tr>\n",
              "      <th>HomePlanet</th>\n",
              "      <td>201</td>\n",
              "    </tr>\n",
              "    <tr>\n",
              "      <th>CryoSleep</th>\n",
              "      <td>217</td>\n",
              "    </tr>\n",
              "    <tr>\n",
              "      <th>Cabin</th>\n",
              "      <td>199</td>\n",
              "    </tr>\n",
              "    <tr>\n",
              "      <th>Destination</th>\n",
              "      <td>182</td>\n",
              "    </tr>\n",
              "    <tr>\n",
              "      <th>Age</th>\n",
              "      <td>179</td>\n",
              "    </tr>\n",
              "    <tr>\n",
              "      <th>VIP</th>\n",
              "      <td>203</td>\n",
              "    </tr>\n",
              "    <tr>\n",
              "      <th>RoomService</th>\n",
              "      <td>181</td>\n",
              "    </tr>\n",
              "    <tr>\n",
              "      <th>FoodCourt</th>\n",
              "      <td>183</td>\n",
              "    </tr>\n",
              "    <tr>\n",
              "      <th>ShoppingMall</th>\n",
              "      <td>208</td>\n",
              "    </tr>\n",
              "    <tr>\n",
              "      <th>Spa</th>\n",
              "      <td>183</td>\n",
              "    </tr>\n",
              "    <tr>\n",
              "      <th>VRDeck</th>\n",
              "      <td>188</td>\n",
              "    </tr>\n",
              "    <tr>\n",
              "      <th>Name</th>\n",
              "      <td>200</td>\n",
              "    </tr>\n",
              "    <tr>\n",
              "      <th>Transported</th>\n",
              "      <td>0</td>\n",
              "    </tr>\n",
              "  </tbody>\n",
              "</table>\n",
              "</div>"
            ],
            "text/plain": [
              "              #nulls\n",
              "PassengerId        0\n",
              "HomePlanet       201\n",
              "CryoSleep        217\n",
              "Cabin            199\n",
              "Destination      182\n",
              "Age              179\n",
              "VIP              203\n",
              "RoomService      181\n",
              "FoodCourt        183\n",
              "ShoppingMall     208\n",
              "Spa              183\n",
              "VRDeck           188\n",
              "Name             200\n",
              "Transported        0"
            ]
          },
          "execution_count": 66,
          "metadata": {},
          "output_type": "execute_result"
        }
      ],
      "source": [
        "def get_nulls(df):\n",
        "    dict_nulls = {}\n",
        "    for col in  df.columns:\n",
        "        dict_nulls[col]=df[col].isnull().sum()\n",
        "\n",
        "    df_nulls = pd.DataFrame(data=list(dict_nulls.values()),\n",
        "                            index=list(dict_nulls.keys()),\n",
        "                            columns=['#nulls'])\n",
        "    return df_nulls\n",
        "\n",
        "get_nulls(df)"
      ]
    },
    {
      "cell_type": "code",
      "execution_count": 67,
      "metadata": {
        "colab": {
          "base_uri": "https://localhost:8080/",
          "height": 508
        },
        "id": "pShptVJH-jsi",
        "outputId": "8c84bc9a-239b-47c6-f972-18548dcb8ec4"
      },
      "outputs": [
        {
          "data": {
            "text/html": [
              "<div>\n",
              "<style scoped>\n",
              "    .dataframe tbody tr th:only-of-type {\n",
              "        vertical-align: middle;\n",
              "    }\n",
              "\n",
              "    .dataframe tbody tr th {\n",
              "        vertical-align: top;\n",
              "    }\n",
              "\n",
              "    .dataframe thead th {\n",
              "        text-align: right;\n",
              "    }\n",
              "</style>\n",
              "<table border=\"1\" class=\"dataframe\">\n",
              "  <thead>\n",
              "    <tr style=\"text-align: right;\">\n",
              "      <th></th>\n",
              "      <th>% nulls</th>\n",
              "    </tr>\n",
              "  </thead>\n",
              "  <tbody>\n",
              "    <tr>\n",
              "      <th>PassengerId</th>\n",
              "      <td>0.0%</td>\n",
              "    </tr>\n",
              "    <tr>\n",
              "      <th>HomePlanet</th>\n",
              "      <td>0.02%</td>\n",
              "    </tr>\n",
              "    <tr>\n",
              "      <th>CryoSleep</th>\n",
              "      <td>0.02%</td>\n",
              "    </tr>\n",
              "    <tr>\n",
              "      <th>Cabin</th>\n",
              "      <td>0.02%</td>\n",
              "    </tr>\n",
              "    <tr>\n",
              "      <th>Destination</th>\n",
              "      <td>0.02%</td>\n",
              "    </tr>\n",
              "    <tr>\n",
              "      <th>Age</th>\n",
              "      <td>0.02%</td>\n",
              "    </tr>\n",
              "    <tr>\n",
              "      <th>VIP</th>\n",
              "      <td>0.02%</td>\n",
              "    </tr>\n",
              "    <tr>\n",
              "      <th>RoomService</th>\n",
              "      <td>0.02%</td>\n",
              "    </tr>\n",
              "    <tr>\n",
              "      <th>FoodCourt</th>\n",
              "      <td>0.02%</td>\n",
              "    </tr>\n",
              "    <tr>\n",
              "      <th>ShoppingMall</th>\n",
              "      <td>0.02%</td>\n",
              "    </tr>\n",
              "    <tr>\n",
              "      <th>Spa</th>\n",
              "      <td>0.02%</td>\n",
              "    </tr>\n",
              "    <tr>\n",
              "      <th>VRDeck</th>\n",
              "      <td>0.02%</td>\n",
              "    </tr>\n",
              "    <tr>\n",
              "      <th>Name</th>\n",
              "      <td>0.02%</td>\n",
              "    </tr>\n",
              "    <tr>\n",
              "      <th>Transported</th>\n",
              "      <td>0.0%</td>\n",
              "    </tr>\n",
              "  </tbody>\n",
              "</table>\n",
              "</div>"
            ],
            "text/plain": [
              "             % nulls\n",
              "PassengerId     0.0%\n",
              "HomePlanet     0.02%\n",
              "CryoSleep      0.02%\n",
              "Cabin          0.02%\n",
              "Destination    0.02%\n",
              "Age            0.02%\n",
              "VIP            0.02%\n",
              "RoomService    0.02%\n",
              "FoodCourt      0.02%\n",
              "ShoppingMall   0.02%\n",
              "Spa            0.02%\n",
              "VRDeck         0.02%\n",
              "Name           0.02%\n",
              "Transported     0.0%"
            ]
          },
          "execution_count": 67,
          "metadata": {},
          "output_type": "execute_result"
        }
      ],
      "source": [
        "def get_nulls_percentage(df):\n",
        "    dict_nulls = {}\n",
        "    for col in  df.columns:\n",
        "        percentage_null_values = str(round(df[col].isnull().sum()/len(df),2))+\\\n",
        "        \"%\"\n",
        "        dict_nulls[col] = percentage_null_values\n",
        "\n",
        "    df_nulls = pd.DataFrame(data=list(dict_nulls.values()),\n",
        "                            index=list(dict_nulls.keys()),\n",
        "                            columns=['% nulls'])\n",
        "    return df_nulls\n",
        "\n",
        "get_nulls_percentage(df)"
      ]
    },
    {
      "cell_type": "code",
      "execution_count": 68,
      "metadata": {
        "id": "D3YQkxpVwW8C"
      },
      "outputs": [
        {
          "name": "stderr",
          "output_type": "stream",
          "text": [
            "C:\\Users\\gilma\\AppData\\Local\\Temp\\ipykernel_2648\\2756269759.py:3: FutureWarning: Downcasting object dtype arrays on .fillna, .ffill, .bfill is deprecated and will change in a future version. Call result.infer_objects(copy=False) instead. To opt-in to the future behavior, set `pd.set_option('future.no_silent_downcasting', True)`\n",
            "  df[cat_col] = df[cat_col].fillna(df[cat_col].mode()[0])\n"
          ]
        }
      ],
      "source": [
        "for cat_col in categorical_variables:\n",
        "    if cat_col!=\"Name\":\n",
        "        df[cat_col] = df[cat_col].fillna(df[cat_col].mode()[0])"
      ]
    },
    {
      "cell_type": "code",
      "execution_count": 69,
      "metadata": {
        "id": "8Y7RbKUvwZs2"
      },
      "outputs": [],
      "source": [
        "for num_col in numerical_variables:\n",
        "    df[num_col] = df[num_col].fillna(df[num_col].mean())"
      ]
    },
    {
      "cell_type": "code",
      "execution_count": 70,
      "metadata": {
        "colab": {
          "base_uri": "https://localhost:8080/",
          "height": 508
        },
        "id": "WLg52gimwc94",
        "outputId": "bad5bad0-fefe-45b4-8781-dc88b4f145f0"
      },
      "outputs": [
        {
          "data": {
            "text/html": [
              "<div>\n",
              "<style scoped>\n",
              "    .dataframe tbody tr th:only-of-type {\n",
              "        vertical-align: middle;\n",
              "    }\n",
              "\n",
              "    .dataframe tbody tr th {\n",
              "        vertical-align: top;\n",
              "    }\n",
              "\n",
              "    .dataframe thead th {\n",
              "        text-align: right;\n",
              "    }\n",
              "</style>\n",
              "<table border=\"1\" class=\"dataframe\">\n",
              "  <thead>\n",
              "    <tr style=\"text-align: right;\">\n",
              "      <th></th>\n",
              "      <th>% nulls</th>\n",
              "    </tr>\n",
              "  </thead>\n",
              "  <tbody>\n",
              "    <tr>\n",
              "      <th>PassengerId</th>\n",
              "      <td>0.0%</td>\n",
              "    </tr>\n",
              "    <tr>\n",
              "      <th>HomePlanet</th>\n",
              "      <td>0.0%</td>\n",
              "    </tr>\n",
              "    <tr>\n",
              "      <th>CryoSleep</th>\n",
              "      <td>0.0%</td>\n",
              "    </tr>\n",
              "    <tr>\n",
              "      <th>Cabin</th>\n",
              "      <td>0.0%</td>\n",
              "    </tr>\n",
              "    <tr>\n",
              "      <th>Destination</th>\n",
              "      <td>0.0%</td>\n",
              "    </tr>\n",
              "    <tr>\n",
              "      <th>Age</th>\n",
              "      <td>0.0%</td>\n",
              "    </tr>\n",
              "    <tr>\n",
              "      <th>VIP</th>\n",
              "      <td>0.0%</td>\n",
              "    </tr>\n",
              "    <tr>\n",
              "      <th>RoomService</th>\n",
              "      <td>0.0%</td>\n",
              "    </tr>\n",
              "    <tr>\n",
              "      <th>FoodCourt</th>\n",
              "      <td>0.0%</td>\n",
              "    </tr>\n",
              "    <tr>\n",
              "      <th>ShoppingMall</th>\n",
              "      <td>0.0%</td>\n",
              "    </tr>\n",
              "    <tr>\n",
              "      <th>Spa</th>\n",
              "      <td>0.0%</td>\n",
              "    </tr>\n",
              "    <tr>\n",
              "      <th>VRDeck</th>\n",
              "      <td>0.0%</td>\n",
              "    </tr>\n",
              "    <tr>\n",
              "      <th>Name</th>\n",
              "      <td>0.02%</td>\n",
              "    </tr>\n",
              "    <tr>\n",
              "      <th>Transported</th>\n",
              "      <td>0.0%</td>\n",
              "    </tr>\n",
              "  </tbody>\n",
              "</table>\n",
              "</div>"
            ],
            "text/plain": [
              "             % nulls\n",
              "PassengerId     0.0%\n",
              "HomePlanet      0.0%\n",
              "CryoSleep       0.0%\n",
              "Cabin           0.0%\n",
              "Destination     0.0%\n",
              "Age             0.0%\n",
              "VIP             0.0%\n",
              "RoomService     0.0%\n",
              "FoodCourt       0.0%\n",
              "ShoppingMall    0.0%\n",
              "Spa             0.0%\n",
              "VRDeck          0.0%\n",
              "Name           0.02%\n",
              "Transported     0.0%"
            ]
          },
          "execution_count": 70,
          "metadata": {},
          "output_type": "execute_result"
        }
      ],
      "source": [
        "get_nulls_percentage(df)"
      ]
    },
    {
      "cell_type": "code",
      "execution_count": 71,
      "metadata": {
        "colab": {
          "base_uri": "https://localhost:8080/",
          "height": 320
        },
        "id": "lGMaoYaLwfSd",
        "outputId": "921edc8b-8f76-4021-b68f-029cd05769e6"
      },
      "outputs": [
        {
          "data": {
            "text/html": [
              "<div>\n",
              "<style scoped>\n",
              "    .dataframe tbody tr th:only-of-type {\n",
              "        vertical-align: middle;\n",
              "    }\n",
              "\n",
              "    .dataframe tbody tr th {\n",
              "        vertical-align: top;\n",
              "    }\n",
              "\n",
              "    .dataframe thead th {\n",
              "        text-align: right;\n",
              "    }\n",
              "</style>\n",
              "<table border=\"1\" class=\"dataframe\">\n",
              "  <thead>\n",
              "    <tr style=\"text-align: right;\">\n",
              "      <th></th>\n",
              "      <th>Age</th>\n",
              "      <th>RoomService</th>\n",
              "      <th>FoodCourt</th>\n",
              "      <th>ShoppingMall</th>\n",
              "      <th>Spa</th>\n",
              "      <th>VRDeck</th>\n",
              "    </tr>\n",
              "  </thead>\n",
              "  <tbody>\n",
              "    <tr>\n",
              "      <th>count</th>\n",
              "      <td>8693.000000</td>\n",
              "      <td>8693.000000</td>\n",
              "      <td>8693.000000</td>\n",
              "      <td>8693.000000</td>\n",
              "      <td>8693.000000</td>\n",
              "      <td>8693.000000</td>\n",
              "    </tr>\n",
              "    <tr>\n",
              "      <th>mean</th>\n",
              "      <td>28.827930</td>\n",
              "      <td>224.687617</td>\n",
              "      <td>458.077203</td>\n",
              "      <td>173.729169</td>\n",
              "      <td>311.138778</td>\n",
              "      <td>304.854791</td>\n",
              "    </tr>\n",
              "    <tr>\n",
              "      <th>std</th>\n",
              "      <td>14.339054</td>\n",
              "      <td>659.739364</td>\n",
              "      <td>1594.434978</td>\n",
              "      <td>597.417440</td>\n",
              "      <td>1124.675871</td>\n",
              "      <td>1133.259049</td>\n",
              "    </tr>\n",
              "    <tr>\n",
              "      <th>min</th>\n",
              "      <td>0.000000</td>\n",
              "      <td>0.000000</td>\n",
              "      <td>0.000000</td>\n",
              "      <td>0.000000</td>\n",
              "      <td>0.000000</td>\n",
              "      <td>0.000000</td>\n",
              "    </tr>\n",
              "    <tr>\n",
              "      <th>25%</th>\n",
              "      <td>20.000000</td>\n",
              "      <td>0.000000</td>\n",
              "      <td>0.000000</td>\n",
              "      <td>0.000000</td>\n",
              "      <td>0.000000</td>\n",
              "      <td>0.000000</td>\n",
              "    </tr>\n",
              "    <tr>\n",
              "      <th>50%</th>\n",
              "      <td>27.000000</td>\n",
              "      <td>0.000000</td>\n",
              "      <td>0.000000</td>\n",
              "      <td>0.000000</td>\n",
              "      <td>0.000000</td>\n",
              "      <td>0.000000</td>\n",
              "    </tr>\n",
              "    <tr>\n",
              "      <th>75%</th>\n",
              "      <td>37.000000</td>\n",
              "      <td>78.000000</td>\n",
              "      <td>118.000000</td>\n",
              "      <td>45.000000</td>\n",
              "      <td>89.000000</td>\n",
              "      <td>71.000000</td>\n",
              "    </tr>\n",
              "    <tr>\n",
              "      <th>max</th>\n",
              "      <td>79.000000</td>\n",
              "      <td>14327.000000</td>\n",
              "      <td>29813.000000</td>\n",
              "      <td>23492.000000</td>\n",
              "      <td>22408.000000</td>\n",
              "      <td>24133.000000</td>\n",
              "    </tr>\n",
              "  </tbody>\n",
              "</table>\n",
              "</div>"
            ],
            "text/plain": [
              "               Age   RoomService     FoodCourt  ShoppingMall           Spa  \\\n",
              "count  8693.000000   8693.000000   8693.000000   8693.000000   8693.000000   \n",
              "mean     28.827930    224.687617    458.077203    173.729169    311.138778   \n",
              "std      14.339054    659.739364   1594.434978    597.417440   1124.675871   \n",
              "min       0.000000      0.000000      0.000000      0.000000      0.000000   \n",
              "25%      20.000000      0.000000      0.000000      0.000000      0.000000   \n",
              "50%      27.000000      0.000000      0.000000      0.000000      0.000000   \n",
              "75%      37.000000     78.000000    118.000000     45.000000     89.000000   \n",
              "max      79.000000  14327.000000  29813.000000  23492.000000  22408.000000   \n",
              "\n",
              "             VRDeck  \n",
              "count   8693.000000  \n",
              "mean     304.854791  \n",
              "std     1133.259049  \n",
              "min        0.000000  \n",
              "25%        0.000000  \n",
              "50%        0.000000  \n",
              "75%       71.000000  \n",
              "max    24133.000000  "
            ]
          },
          "execution_count": 71,
          "metadata": {},
          "output_type": "execute_result"
        }
      ],
      "source": [
        "df.describe()"
      ]
    },
    {
      "cell_type": "code",
      "execution_count": 72,
      "metadata": {
        "colab": {
          "base_uri": "https://localhost:8080/",
          "height": 195
        },
        "id": "FneHBbtgwmWm",
        "outputId": "66615026-3b4e-4350-c925-c1ae89d595f9"
      },
      "outputs": [
        {
          "data": {
            "text/html": [
              "<div>\n",
              "<style scoped>\n",
              "    .dataframe tbody tr th:only-of-type {\n",
              "        vertical-align: middle;\n",
              "    }\n",
              "\n",
              "    .dataframe tbody tr th {\n",
              "        vertical-align: top;\n",
              "    }\n",
              "\n",
              "    .dataframe thead th {\n",
              "        text-align: right;\n",
              "    }\n",
              "</style>\n",
              "<table border=\"1\" class=\"dataframe\">\n",
              "  <thead>\n",
              "    <tr style=\"text-align: right;\">\n",
              "      <th></th>\n",
              "      <th>PassengerId</th>\n",
              "      <th>HomePlanet</th>\n",
              "      <th>Cabin</th>\n",
              "      <th>Destination</th>\n",
              "      <th>Name</th>\n",
              "    </tr>\n",
              "  </thead>\n",
              "  <tbody>\n",
              "    <tr>\n",
              "      <th>count</th>\n",
              "      <td>8693</td>\n",
              "      <td>8693</td>\n",
              "      <td>8693</td>\n",
              "      <td>8693</td>\n",
              "      <td>8493</td>\n",
              "    </tr>\n",
              "    <tr>\n",
              "      <th>unique</th>\n",
              "      <td>8693</td>\n",
              "      <td>3</td>\n",
              "      <td>6560</td>\n",
              "      <td>3</td>\n",
              "      <td>8473</td>\n",
              "    </tr>\n",
              "    <tr>\n",
              "      <th>top</th>\n",
              "      <td>9280_02</td>\n",
              "      <td>Earth</td>\n",
              "      <td>G/734/S</td>\n",
              "      <td>TRAPPIST-1e</td>\n",
              "      <td>Anton Woody</td>\n",
              "    </tr>\n",
              "    <tr>\n",
              "      <th>freq</th>\n",
              "      <td>1</td>\n",
              "      <td>4803</td>\n",
              "      <td>207</td>\n",
              "      <td>6097</td>\n",
              "      <td>2</td>\n",
              "    </tr>\n",
              "  </tbody>\n",
              "</table>\n",
              "</div>"
            ],
            "text/plain": [
              "       PassengerId HomePlanet    Cabin  Destination         Name\n",
              "count         8693       8693     8693         8693         8493\n",
              "unique        8693          3     6560            3         8473\n",
              "top        9280_02      Earth  G/734/S  TRAPPIST-1e  Anton Woody\n",
              "freq             1       4803      207         6097            2"
            ]
          },
          "execution_count": 72,
          "metadata": {},
          "output_type": "execute_result"
        }
      ],
      "source": [
        "df.describe(include=['O'])"
      ]
    },
    {
      "cell_type": "code",
      "execution_count": 73,
      "metadata": {
        "id": "Ikef4_6bwqZF"
      },
      "outputs": [],
      "source": [
        "# Dropping the name column we don't need anymore\n",
        "df.drop(['Name'], axis=1, inplace=True)"
      ]
    },
    {
      "cell_type": "code",
      "execution_count": 74,
      "metadata": {
        "id": "Qaz5L1L9wvBq"
      },
      "outputs": [],
      "source": [
        "categorical_variables = df.select_dtypes(include=['object']).columns"
      ]
    },
    {
      "cell_type": "code",
      "execution_count": 75,
      "metadata": {
        "colab": {
          "base_uri": "https://localhost:8080/"
        },
        "id": "75MFD-0Qwv2x",
        "outputId": "b85d6248-520a-47e6-8b5c-291b3161ec8b"
      },
      "outputs": [
        {
          "data": {
            "text/plain": [
              "Index(['PassengerId', 'HomePlanet', 'Cabin', 'Destination'], dtype='object')"
            ]
          },
          "execution_count": 75,
          "metadata": {},
          "output_type": "execute_result"
        }
      ],
      "source": [
        "categorical_variables"
      ]
    },
    {
      "cell_type": "code",
      "execution_count": 76,
      "metadata": {
        "colab": {
          "base_uri": "https://localhost:8080/",
          "height": 641
        },
        "id": "BpzWEc8YwvzS",
        "outputId": "467bb7bf-3799-4ff6-94da-ce009ba134ac"
      },
      "outputs": [
        {
          "data": {
            "image/png": "[encoded data removed]",
            "text/plain": [
              "<Figure size 1000x700 with 4 Axes>"
            ]
          },
          "metadata": {},
          "output_type": "display_data"
        }
      ],
      "source": [
        "plt.figure(figsize=(10,7))\n",
        "plt.subplot(2,2,1)\n",
        "df['HomePlanet'].value_counts().plot(kind='bar', title='HomePlanet')\n",
        "plt.subplot(2,2,2)\n",
        "df['Destination'].value_counts().plot(kind='bar', title='Destination')\n",
        "plt.subplot(2,2,3)\n",
        "df['CryoSleep'].value_counts().plot(kind='bar', title='CryoSleep')\n",
        "plt.subplot(2,2,4)\n",
        "df['VIP'].value_counts().plot(kind='bar',title='VIP')\n",
        "plt.tight_layout();"
      ]
    },
    {
      "cell_type": "code",
      "execution_count": 77,
      "metadata": {
        "colab": {
          "base_uri": "https://localhost:8080/",
          "height": 198
        },
        "id": "zjC579k4wvwW",
        "outputId": "b7b769be-29d4-4247-be4f-b178eebfc6df"
      },
      "outputs": [
        {
          "data": {
            "text/plain": [
              "VIP\n",
              "False    8494\n",
              "True      199\n",
              "Name: count, dtype: int64"
            ]
          },
          "execution_count": 77,
          "metadata": {},
          "output_type": "execute_result"
        }
      ],
      "source": [
        "df['VIP'].value_counts()"
      ]
    },
    {
      "cell_type": "code",
      "execution_count": 78,
      "metadata": {
        "id": "Nt_4RnHGwvtO"
      },
      "outputs": [],
      "source": [
        "numerical_variables = list(numerical_variables)\n",
        "if \"train\" in filepath:\n",
        "    numerical_variables.remove('Transported')"
      ]
    },
    {
      "cell_type": "code",
      "execution_count": 79,
      "metadata": {
        "colab": {
          "base_uri": "https://localhost:8080/",
          "height": 642
        },
        "id": "REcB3uu_wvqM",
        "outputId": "a7c69a6c-9b28-4b8b-9f58-c9328533facb"
      },
      "outputs": [
        {
          "data": {
            "image/png": "[encoded data removed]",
            "text/plain": [
              "<Figure size 1000x700 with 6 Axes>"
            ]
          },
          "metadata": {},
          "output_type": "display_data"
        }
      ],
      "source": [
        "plt.figure(figsize=(10,7))\n",
        "for i,num_col in enumerate(numerical_variables):\n",
        "    plt.subplot(2,3,i+1)\n",
        "    df[num_col].plot(kind='hist', bins=20)\n",
        "    plt.title(num_col)\n",
        "plt.tight_layout();"
      ]
    },
    {
      "cell_type": "code",
      "execution_count": 80,
      "metadata": {
        "colab": {
          "base_uri": "https://localhost:8080/",
          "height": 226
        },
        "id": "mJhMfl4Fwvmc",
        "outputId": "97bb9c70-b2fa-4b1d-96cb-7ad3bf55f0c8"
      },
      "outputs": [
        {
          "data": {
            "text/html": [
              "<div>\n",
              "<style scoped>\n",
              "    .dataframe tbody tr th:only-of-type {\n",
              "        vertical-align: middle;\n",
              "    }\n",
              "\n",
              "    .dataframe tbody tr th {\n",
              "        vertical-align: top;\n",
              "    }\n",
              "\n",
              "    .dataframe thead th {\n",
              "        text-align: right;\n",
              "    }\n",
              "</style>\n",
              "<table border=\"1\" class=\"dataframe\">\n",
              "  <thead>\n",
              "    <tr style=\"text-align: right;\">\n",
              "      <th></th>\n",
              "      <th>PassengerId</th>\n",
              "      <th>HomePlanet</th>\n",
              "      <th>CryoSleep</th>\n",
              "      <th>Destination</th>\n",
              "      <th>Age</th>\n",
              "      <th>VIP</th>\n",
              "      <th>RoomService</th>\n",
              "      <th>FoodCourt</th>\n",
              "      <th>ShoppingMall</th>\n",
              "      <th>Spa</th>\n",
              "      <th>VRDeck</th>\n",
              "      <th>Transported</th>\n",
              "      <th>Deck</th>\n",
              "      <th>Port</th>\n",
              "    </tr>\n",
              "  </thead>\n",
              "  <tbody>\n",
              "    <tr>\n",
              "      <th>0</th>\n",
              "      <td>0001_01</td>\n",
              "      <td>Europa</td>\n",
              "      <td>False</td>\n",
              "      <td>TRAPPIST-1e</td>\n",
              "      <td>39.0</td>\n",
              "      <td>False</td>\n",
              "      <td>0.0</td>\n",
              "      <td>0.0</td>\n",
              "      <td>0.0</td>\n",
              "      <td>0.0</td>\n",
              "      <td>0.0</td>\n",
              "      <td>False</td>\n",
              "      <td>0</td>\n",
              "      <td>0</td>\n",
              "    </tr>\n",
              "    <tr>\n",
              "      <th>1</th>\n",
              "      <td>0002_01</td>\n",
              "      <td>Earth</td>\n",
              "      <td>False</td>\n",
              "      <td>TRAPPIST-1e</td>\n",
              "      <td>24.0</td>\n",
              "      <td>False</td>\n",
              "      <td>109.0</td>\n",
              "      <td>9.0</td>\n",
              "      <td>25.0</td>\n",
              "      <td>549.0</td>\n",
              "      <td>44.0</td>\n",
              "      <td>True</td>\n",
              "      <td>1</td>\n",
              "      <td>1</td>\n",
              "    </tr>\n",
              "    <tr>\n",
              "      <th>2</th>\n",
              "      <td>0003_01</td>\n",
              "      <td>Europa</td>\n",
              "      <td>False</td>\n",
              "      <td>TRAPPIST-1e</td>\n",
              "      <td>58.0</td>\n",
              "      <td>True</td>\n",
              "      <td>43.0</td>\n",
              "      <td>3576.0</td>\n",
              "      <td>0.0</td>\n",
              "      <td>6715.0</td>\n",
              "      <td>49.0</td>\n",
              "      <td>False</td>\n",
              "      <td>2</td>\n",
              "      <td>1</td>\n",
              "    </tr>\n",
              "    <tr>\n",
              "      <th>3</th>\n",
              "      <td>0003_02</td>\n",
              "      <td>Europa</td>\n",
              "      <td>False</td>\n",
              "      <td>TRAPPIST-1e</td>\n",
              "      <td>33.0</td>\n",
              "      <td>False</td>\n",
              "      <td>0.0</td>\n",
              "      <td>1283.0</td>\n",
              "      <td>371.0</td>\n",
              "      <td>3329.0</td>\n",
              "      <td>193.0</td>\n",
              "      <td>False</td>\n",
              "      <td>2</td>\n",
              "      <td>1</td>\n",
              "    </tr>\n",
              "    <tr>\n",
              "      <th>4</th>\n",
              "      <td>0004_01</td>\n",
              "      <td>Earth</td>\n",
              "      <td>False</td>\n",
              "      <td>TRAPPIST-1e</td>\n",
              "      <td>16.0</td>\n",
              "      <td>False</td>\n",
              "      <td>303.0</td>\n",
              "      <td>70.0</td>\n",
              "      <td>151.0</td>\n",
              "      <td>565.0</td>\n",
              "      <td>2.0</td>\n",
              "      <td>True</td>\n",
              "      <td>1</td>\n",
              "      <td>1</td>\n",
              "    </tr>\n",
              "  </tbody>\n",
              "</table>\n",
              "</div>"
            ],
            "text/plain": [
              "  PassengerId HomePlanet  CryoSleep  Destination   Age    VIP  RoomService  \\\n",
              "0     0001_01     Europa      False  TRAPPIST-1e  39.0  False          0.0   \n",
              "1     0002_01      Earth      False  TRAPPIST-1e  24.0  False        109.0   \n",
              "2     0003_01     Europa      False  TRAPPIST-1e  58.0   True         43.0   \n",
              "3     0003_02     Europa      False  TRAPPIST-1e  33.0  False          0.0   \n",
              "4     0004_01      Earth      False  TRAPPIST-1e  16.0  False        303.0   \n",
              "\n",
              "   FoodCourt  ShoppingMall     Spa  VRDeck  Transported  Deck  Port  \n",
              "0        0.0           0.0     0.0     0.0        False     0     0  \n",
              "1        9.0          25.0   549.0    44.0         True     1     1  \n",
              "2     3576.0           0.0  6715.0    49.0        False     2     1  \n",
              "3     1283.0         371.0  3329.0   193.0        False     2     1  \n",
              "4       70.0         151.0   565.0     2.0         True     1     1  "
            ]
          },
          "execution_count": 80,
          "metadata": {},
          "output_type": "execute_result"
        }
      ],
      "source": [
        "# building the deck and port features from the 'cabin' column\n",
        "df['Deck'] = df['Cabin'].apply(lambda s: s[0] if pd.notnull(s) else 'M')\n",
        "df['Port'] = df['Cabin'].apply(lambda s: s[-1] if pd.notnull(s) else 'M')\n",
        "df[\"Deck\"] = df[\"Deck\"].map({'B':0, 'F':1, 'A':2, 'G':3, 'E':4, 'D':5, 'C':6, 'T':7}).astype(int)\n",
        "df[\"Port\"] = df[\"Port\"].map({'P':0, 'S':1}).astype(int)\n",
        "df.drop(['Cabin'], axis=1, inplace=True)\n",
        "df.head()"
      ]
    },
    {
      "cell_type": "code",
      "execution_count": 81,
      "metadata": {
        "id": "zDtOoO88sNSv"
      },
      "outputs": [],
      "source": [
        "# # 1. One-hot encoding using get_dummies()\n",
        "# df_encoded = pd.get_dummies(df, columns=['HomePlanet', 'Destination'])"
      ]
    },
    {
      "cell_type": "code",
      "execution_count": 82,
      "metadata": {
        "id": "5LaZDqhmsM2r"
      },
      "outputs": [],
      "source": [
        "###"
      ]
    },
    {
      "cell_type": "code",
      "execution_count": 83,
      "metadata": {
        "id": "2JwVy5mxwvfY"
      },
      "outputs": [],
      "source": [
        "df[\"HomePlanet\"] = df[\"HomePlanet\"].map({'Earth':1, 'Europa':2, 'Mars':3}).astype(int)\n",
        "\n",
        "df[\"Destination\"] = df[\"Destination\"].map({'TRAPPIST-1e':1, 'PSO J318.5-22':2, '55 Cancri e':3}).astype(int)\n"
      ]
    },
    {
      "cell_type": "code",
      "execution_count": 84,
      "metadata": {
        "id": "0Bni0th_wD08"
      },
      "outputs": [],
      "source": [
        "# Summing up the spending categories\n",
        "df['TotalSpend'] = df[['RoomService', 'FoodCourt', 'ShoppingMall', 'Spa', 'VRDeck']].sum(axis=1)\n",
        "df = df.drop(['RoomService', 'FoodCourt', 'ShoppingMall', 'Spa', 'VRDeck'], axis=1)"
      ]
    },
    {
      "cell_type": "code",
      "execution_count": 85,
      "metadata": {
        "colab": {
          "base_uri": "https://localhost:8080/",
          "height": 226
        },
        "id": "0JWobCmdw4Wz",
        "outputId": "79eca800-dca1-4024-c0c0-7a86910b8299"
      },
      "outputs": [
        {
          "data": {
            "text/html": [
              "<div>\n",
              "<style scoped>\n",
              "    .dataframe tbody tr th:only-of-type {\n",
              "        vertical-align: middle;\n",
              "    }\n",
              "\n",
              "    .dataframe tbody tr th {\n",
              "        vertical-align: top;\n",
              "    }\n",
              "\n",
              "    .dataframe thead th {\n",
              "        text-align: right;\n",
              "    }\n",
              "</style>\n",
              "<table border=\"1\" class=\"dataframe\">\n",
              "  <thead>\n",
              "    <tr style=\"text-align: right;\">\n",
              "      <th></th>\n",
              "      <th>PassengerId</th>\n",
              "      <th>HomePlanet</th>\n",
              "      <th>CryoSleep</th>\n",
              "      <th>Destination</th>\n",
              "      <th>Age</th>\n",
              "      <th>VIP</th>\n",
              "      <th>Transported</th>\n",
              "      <th>Deck</th>\n",
              "      <th>Port</th>\n",
              "      <th>TotalSpend</th>\n",
              "    </tr>\n",
              "  </thead>\n",
              "  <tbody>\n",
              "    <tr>\n",
              "      <th>0</th>\n",
              "      <td>0001_01</td>\n",
              "      <td>2</td>\n",
              "      <td>False</td>\n",
              "      <td>1</td>\n",
              "      <td>39.0</td>\n",
              "      <td>False</td>\n",
              "      <td>False</td>\n",
              "      <td>0</td>\n",
              "      <td>0</td>\n",
              "      <td>0.0</td>\n",
              "    </tr>\n",
              "    <tr>\n",
              "      <th>1</th>\n",
              "      <td>0002_01</td>\n",
              "      <td>1</td>\n",
              "      <td>False</td>\n",
              "      <td>1</td>\n",
              "      <td>24.0</td>\n",
              "      <td>False</td>\n",
              "      <td>True</td>\n",
              "      <td>1</td>\n",
              "      <td>1</td>\n",
              "      <td>736.0</td>\n",
              "    </tr>\n",
              "    <tr>\n",
              "      <th>2</th>\n",
              "      <td>0003_01</td>\n",
              "      <td>2</td>\n",
              "      <td>False</td>\n",
              "      <td>1</td>\n",
              "      <td>58.0</td>\n",
              "      <td>True</td>\n",
              "      <td>False</td>\n",
              "      <td>2</td>\n",
              "      <td>1</td>\n",
              "      <td>10383.0</td>\n",
              "    </tr>\n",
              "    <tr>\n",
              "      <th>3</th>\n",
              "      <td>0003_02</td>\n",
              "      <td>2</td>\n",
              "      <td>False</td>\n",
              "      <td>1</td>\n",
              "      <td>33.0</td>\n",
              "      <td>False</td>\n",
              "      <td>False</td>\n",
              "      <td>2</td>\n",
              "      <td>1</td>\n",
              "      <td>5176.0</td>\n",
              "    </tr>\n",
              "    <tr>\n",
              "      <th>4</th>\n",
              "      <td>0004_01</td>\n",
              "      <td>1</td>\n",
              "      <td>False</td>\n",
              "      <td>1</td>\n",
              "      <td>16.0</td>\n",
              "      <td>False</td>\n",
              "      <td>True</td>\n",
              "      <td>1</td>\n",
              "      <td>1</td>\n",
              "      <td>1091.0</td>\n",
              "    </tr>\n",
              "  </tbody>\n",
              "</table>\n",
              "</div>"
            ],
            "text/plain": [
              "  PassengerId  HomePlanet  CryoSleep  Destination   Age    VIP  Transported  \\\n",
              "0     0001_01           2      False            1  39.0  False        False   \n",
              "1     0002_01           1      False            1  24.0  False         True   \n",
              "2     0003_01           2      False            1  58.0   True        False   \n",
              "3     0003_02           2      False            1  33.0  False        False   \n",
              "4     0004_01           1      False            1  16.0  False         True   \n",
              "\n",
              "   Deck  Port  TotalSpend  \n",
              "0     0     0         0.0  \n",
              "1     1     1       736.0  \n",
              "2     2     1     10383.0  \n",
              "3     2     1      5176.0  \n",
              "4     1     1      1091.0  "
            ]
          },
          "execution_count": 85,
          "metadata": {},
          "output_type": "execute_result"
        }
      ],
      "source": [
        "df.head(5)"
      ]
    },
    {
      "cell_type": "code",
      "execution_count": 86,
      "metadata": {
        "id": "3ywi_lKSulXt"
      },
      "outputs": [],
      "source": [
        "# Convert all boolean columns to 0 and 1\n",
        "df['CryoSleep'] = df['CryoSleep'].astype(int)\n",
        "df['VIP'] = df['VIP'].astype(int)"
      ]
    },
    {
      "cell_type": "code",
      "execution_count": 87,
      "metadata": {
        "id": "53tpCnJjyiF9"
      },
      "outputs": [],
      "source": [
        "if 'train' in filepath:\n",
        "    df.drop(['PassengerId'],axis=1, inplace=True)"
      ]
    },
    {
      "cell_type": "code",
      "execution_count": 88,
      "metadata": {
        "id": "UbkZapU1z7EX"
      },
      "outputs": [],
      "source": [
        "### Check on the correlation"
      ]
    },
    {
      "cell_type": "code",
      "execution_count": 89,
      "metadata": {
        "colab": {
          "base_uri": "https://localhost:8080/",
          "height": 351
        },
        "id": "7Jc5d45uz7B1",
        "outputId": "f1669961-0622-4a5f-bbaf-dbfa19e6eea4"
      },
      "outputs": [
        {
          "data": {
            "text/html": [
              "<div>\n",
              "<style scoped>\n",
              "    .dataframe tbody tr th:only-of-type {\n",
              "        vertical-align: middle;\n",
              "    }\n",
              "\n",
              "    .dataframe tbody tr th {\n",
              "        vertical-align: top;\n",
              "    }\n",
              "\n",
              "    .dataframe thead th {\n",
              "        text-align: right;\n",
              "    }\n",
              "</style>\n",
              "<table border=\"1\" class=\"dataframe\">\n",
              "  <thead>\n",
              "    <tr style=\"text-align: right;\">\n",
              "      <th></th>\n",
              "      <th>HomePlanet</th>\n",
              "      <th>CryoSleep</th>\n",
              "      <th>Destination</th>\n",
              "      <th>Age</th>\n",
              "      <th>VIP</th>\n",
              "      <th>Transported</th>\n",
              "      <th>Deck</th>\n",
              "      <th>Port</th>\n",
              "      <th>TotalSpend</th>\n",
              "    </tr>\n",
              "  </thead>\n",
              "  <tbody>\n",
              "    <tr>\n",
              "      <th>HomePlanet</th>\n",
              "      <td>1.000000</td>\n",
              "      <td>0.083586</td>\n",
              "      <td>-0.034737</td>\n",
              "      <td>0.133888</td>\n",
              "      <td>0.123512</td>\n",
              "      <td>0.115461</td>\n",
              "      <td>0.014401</td>\n",
              "      <td>0.000636</td>\n",
              "      <td>0.150317</td>\n",
              "    </tr>\n",
              "    <tr>\n",
              "      <th>CryoSleep</th>\n",
              "      <td>0.083586</td>\n",
              "      <td>1.000000</td>\n",
              "      <td>0.096287</td>\n",
              "      <td>-0.070736</td>\n",
              "      <td>-0.078281</td>\n",
              "      <td>0.460132</td>\n",
              "      <td>0.036362</td>\n",
              "      <td>0.023858</td>\n",
              "      <td>-0.376500</td>\n",
              "    </tr>\n",
              "    <tr>\n",
              "      <th>Destination</th>\n",
              "      <td>-0.034737</td>\n",
              "      <td>0.096287</td>\n",
              "      <td>1.000000</td>\n",
              "      <td>0.006619</td>\n",
              "      <td>0.044707</td>\n",
              "      <td>0.108152</td>\n",
              "      <td>0.038141</td>\n",
              "      <td>0.012979</td>\n",
              "      <td>0.099205</td>\n",
              "    </tr>\n",
              "    <tr>\n",
              "      <th>Age</th>\n",
              "      <td>0.133888</td>\n",
              "      <td>-0.070736</td>\n",
              "      <td>0.006619</td>\n",
              "      <td>1.000000</td>\n",
              "      <td>0.091574</td>\n",
              "      <td>-0.074249</td>\n",
              "      <td>0.039150</td>\n",
              "      <td>0.011758</td>\n",
              "      <td>0.184509</td>\n",
              "    </tr>\n",
              "    <tr>\n",
              "      <th>VIP</th>\n",
              "      <td>0.123512</td>\n",
              "      <td>-0.078281</td>\n",
              "      <td>0.044707</td>\n",
              "      <td>0.091574</td>\n",
              "      <td>1.000000</td>\n",
              "      <td>-0.037261</td>\n",
              "      <td>0.033100</td>\n",
              "      <td>-0.008798</td>\n",
              "      <td>0.163187</td>\n",
              "    </tr>\n",
              "    <tr>\n",
              "      <th>Transported</th>\n",
              "      <td>0.115461</td>\n",
              "      <td>0.460132</td>\n",
              "      <td>0.108152</td>\n",
              "      <td>-0.074249</td>\n",
              "      <td>-0.037261</td>\n",
              "      <td>1.000000</td>\n",
              "      <td>0.001701</td>\n",
              "      <td>0.101397</td>\n",
              "      <td>-0.199445</td>\n",
              "    </tr>\n",
              "    <tr>\n",
              "      <th>Deck</th>\n",
              "      <td>0.014401</td>\n",
              "      <td>0.036362</td>\n",
              "      <td>0.038141</td>\n",
              "      <td>0.039150</td>\n",
              "      <td>0.033100</td>\n",
              "      <td>0.001701</td>\n",
              "      <td>1.000000</td>\n",
              "      <td>0.014620</td>\n",
              "      <td>0.125916</td>\n",
              "    </tr>\n",
              "    <tr>\n",
              "      <th>Port</th>\n",
              "      <td>0.000636</td>\n",
              "      <td>0.023858</td>\n",
              "      <td>0.012979</td>\n",
              "      <td>0.011758</td>\n",
              "      <td>-0.008798</td>\n",
              "      <td>0.101397</td>\n",
              "      <td>0.014620</td>\n",
              "      <td>1.000000</td>\n",
              "      <td>0.003390</td>\n",
              "    </tr>\n",
              "    <tr>\n",
              "      <th>TotalSpend</th>\n",
              "      <td>0.150317</td>\n",
              "      <td>-0.376500</td>\n",
              "      <td>0.099205</td>\n",
              "      <td>0.184509</td>\n",
              "      <td>0.163187</td>\n",
              "      <td>-0.199445</td>\n",
              "      <td>0.125916</td>\n",
              "      <td>0.003390</td>\n",
              "      <td>1.000000</td>\n",
              "    </tr>\n",
              "  </tbody>\n",
              "</table>\n",
              "</div>"
            ],
            "text/plain": [
              "             HomePlanet  CryoSleep  Destination       Age       VIP  \\\n",
              "HomePlanet     1.000000   0.083586    -0.034737  0.133888  0.123512   \n",
              "CryoSleep      0.083586   1.000000     0.096287 -0.070736 -0.078281   \n",
              "Destination   -0.034737   0.096287     1.000000  0.006619  0.044707   \n",
              "Age            0.133888  -0.070736     0.006619  1.000000  0.091574   \n",
              "VIP            0.123512  -0.078281     0.044707  0.091574  1.000000   \n",
              "Transported    0.115461   0.460132     0.108152 -0.074249 -0.037261   \n",
              "Deck           0.014401   0.036362     0.038141  0.039150  0.033100   \n",
              "Port           0.000636   0.023858     0.012979  0.011758 -0.008798   \n",
              "TotalSpend     0.150317  -0.376500     0.099205  0.184509  0.163187   \n",
              "\n",
              "             Transported      Deck      Port  TotalSpend  \n",
              "HomePlanet      0.115461  0.014401  0.000636    0.150317  \n",
              "CryoSleep       0.460132  0.036362  0.023858   -0.376500  \n",
              "Destination     0.108152  0.038141  0.012979    0.099205  \n",
              "Age            -0.074249  0.039150  0.011758    0.184509  \n",
              "VIP            -0.037261  0.033100 -0.008798    0.163187  \n",
              "Transported     1.000000  0.001701  0.101397   -0.199445  \n",
              "Deck            0.001701  1.000000  0.014620    0.125916  \n",
              "Port            0.101397  0.014620  1.000000    0.003390  \n",
              "TotalSpend     -0.199445  0.125916  0.003390    1.000000  "
            ]
          },
          "execution_count": 89,
          "metadata": {},
          "output_type": "execute_result"
        }
      ],
      "source": [
        "correlation_matrix = df.corr()\n",
        "correlation_matrix"
      ]
    },
    {
      "cell_type": "code",
      "execution_count": 90,
      "metadata": {
        "colab": {
          "base_uri": "https://localhost:8080/",
          "height": 540
        },
        "id": "5E9O1yjtz6_b",
        "outputId": "2036e314-2888-4751-9f4f-3bcf174d206f"
      },
      "outputs": [
        {
          "data": {
            "image/png": "[encoded data removed]",
            "text/plain": [
              "<Figure size 2000x1000 with 2 Axes>"
            ]
          },
          "metadata": {},
          "output_type": "display_data"
        }
      ],
      "source": [
        "# Create the correlation heatmap with two decimal places in annotations\n",
        "plt.figure(figsize=(20, 10))\n",
        "sns.heatmap(correlation_matrix, annot=True, fmt=\".2f\", cmap='coolwarm', linewidths=0.5)\n",
        "plt.title('Correlation Heatmap')\n",
        "plt.show()"
      ]
    },
    {
      "cell_type": "code",
      "execution_count": 91,
      "metadata": {
        "id": "UBtXWcyJz6yb"
      },
      "outputs": [],
      "source": [
        "###"
      ]
    },
    {
      "cell_type": "code",
      "execution_count": 92,
      "metadata": {
        "id": "JCCzOCxDyh5t"
      },
      "outputs": [],
      "source": [
        "### SAVE TRAIN 1\n",
        "\n",
        "filename =  pathlib.Path(filepath).stem + \"_cleaned_1.csv\"\n",
        "file_dest_path = pathlib.Path(\"./\") / filename\n",
        "df.to_csv(file_dest_path, index=False)"
      ]
    },
    {
      "cell_type": "code",
      "execution_count": 93,
      "metadata": {
        "id": "fs62bDSoyh2B"
      },
      "outputs": [],
      "source": [
        "### FIRST TRAINING"
      ]
    },
    {
      "cell_type": "code",
      "execution_count": 94,
      "metadata": {
        "id": "qUBnxnQjBdVc"
      },
      "outputs": [],
      "source": [
        "df_train_1 = pd.read_csv(\"./train_cleaned_1.csv\")\n",
        "# 1. Train Test Split\n",
        "X = df_train_1.drop(\"Transported\", axis=1).values\n",
        "y = df_train_1[\"Transported\"].values"
      ]
    },
    {
      "cell_type": "code",
      "execution_count": 95,
      "metadata": {
        "colab": {
          "base_uri": "https://localhost:8080/"
        },
        "id": "3-X4_NTIBdSS",
        "outputId": "e08b29f2-3f3e-4795-a1c2-e0de14823c15"
      },
      "outputs": [
        {
          "data": {
            "text/plain": [
              "((6954, 8), (6954,), (1739, 8), (1739,))"
            ]
          },
          "execution_count": 95,
          "metadata": {},
          "output_type": "execute_result"
        }
      ],
      "source": [
        "X_train,X_test,y_train,y_test = train_test_split(X,y,test_size=0.2,random_state=42)\n",
        "\n",
        "X_train.shape,y_train.shape, X_test.shape, y_test.shape"
      ]
    },
    {
      "cell_type": "code",
      "execution_count": 96,
      "metadata": {
        "colab": {
          "base_uri": "https://localhost:8080/",
          "height": 226
        },
        "id": "54FSHk6MDn2u",
        "outputId": "d2994c18-f0a6-44ac-8373-88ebd2a56b55"
      },
      "outputs": [
        {
          "data": {
            "text/html": [
              "<div>\n",
              "<style scoped>\n",
              "    .dataframe tbody tr th:only-of-type {\n",
              "        vertical-align: middle;\n",
              "    }\n",
              "\n",
              "    .dataframe tbody tr th {\n",
              "        vertical-align: top;\n",
              "    }\n",
              "\n",
              "    .dataframe thead th {\n",
              "        text-align: right;\n",
              "    }\n",
              "</style>\n",
              "<table border=\"1\" class=\"dataframe\">\n",
              "  <thead>\n",
              "    <tr style=\"text-align: right;\">\n",
              "      <th></th>\n",
              "      <th>HomePlanet</th>\n",
              "      <th>CryoSleep</th>\n",
              "      <th>Destination</th>\n",
              "      <th>Age</th>\n",
              "      <th>VIP</th>\n",
              "      <th>Transported</th>\n",
              "      <th>Deck</th>\n",
              "      <th>Port</th>\n",
              "      <th>TotalSpend</th>\n",
              "    </tr>\n",
              "  </thead>\n",
              "  <tbody>\n",
              "    <tr>\n",
              "      <th>0</th>\n",
              "      <td>2</td>\n",
              "      <td>0</td>\n",
              "      <td>1</td>\n",
              "      <td>39.0</td>\n",
              "      <td>0</td>\n",
              "      <td>False</td>\n",
              "      <td>0</td>\n",
              "      <td>0</td>\n",
              "      <td>0.0</td>\n",
              "    </tr>\n",
              "    <tr>\n",
              "      <th>1</th>\n",
              "      <td>1</td>\n",
              "      <td>0</td>\n",
              "      <td>1</td>\n",
              "      <td>24.0</td>\n",
              "      <td>0</td>\n",
              "      <td>True</td>\n",
              "      <td>1</td>\n",
              "      <td>1</td>\n",
              "      <td>736.0</td>\n",
              "    </tr>\n",
              "    <tr>\n",
              "      <th>2</th>\n",
              "      <td>2</td>\n",
              "      <td>0</td>\n",
              "      <td>1</td>\n",
              "      <td>58.0</td>\n",
              "      <td>1</td>\n",
              "      <td>False</td>\n",
              "      <td>2</td>\n",
              "      <td>1</td>\n",
              "      <td>10383.0</td>\n",
              "    </tr>\n",
              "    <tr>\n",
              "      <th>3</th>\n",
              "      <td>2</td>\n",
              "      <td>0</td>\n",
              "      <td>1</td>\n",
              "      <td>33.0</td>\n",
              "      <td>0</td>\n",
              "      <td>False</td>\n",
              "      <td>2</td>\n",
              "      <td>1</td>\n",
              "      <td>5176.0</td>\n",
              "    </tr>\n",
              "    <tr>\n",
              "      <th>4</th>\n",
              "      <td>1</td>\n",
              "      <td>0</td>\n",
              "      <td>1</td>\n",
              "      <td>16.0</td>\n",
              "      <td>0</td>\n",
              "      <td>True</td>\n",
              "      <td>1</td>\n",
              "      <td>1</td>\n",
              "      <td>1091.0</td>\n",
              "    </tr>\n",
              "  </tbody>\n",
              "</table>\n",
              "</div>"
            ],
            "text/plain": [
              "   HomePlanet  CryoSleep  Destination   Age  VIP  Transported  Deck  Port  \\\n",
              "0           2          0            1  39.0    0        False     0     0   \n",
              "1           1          0            1  24.0    0         True     1     1   \n",
              "2           2          0            1  58.0    1        False     2     1   \n",
              "3           2          0            1  33.0    0        False     2     1   \n",
              "4           1          0            1  16.0    0         True     1     1   \n",
              "\n",
              "   TotalSpend  \n",
              "0         0.0  \n",
              "1       736.0  \n",
              "2     10383.0  \n",
              "3      5176.0  \n",
              "4      1091.0  "
            ]
          },
          "execution_count": 96,
          "metadata": {},
          "output_type": "execute_result"
        }
      ],
      "source": [
        "df_train_1.head(5)"
      ]
    },
    {
      "cell_type": "code",
      "execution_count": 97,
      "metadata": {
        "id": "k58gfU0OBdOh"
      },
      "outputs": [],
      "source": [
        "# MODELS"
      ]
    },
    {
      "cell_type": "code",
      "execution_count": 98,
      "metadata": {
        "colab": {
          "base_uri": "https://localhost:8080/"
        },
        "id": "GUcB_fVKBdLs",
        "outputId": "b4a81aff-be75-448a-f267-1eb48c29feb8"
      },
      "outputs": [
        {
          "name": "stdout",
          "output_type": "stream",
          "text": [
            "KNN Accuracy: 0.7078780908568143\n"
          ]
        }
      ],
      "source": [
        "knn = KNeighborsClassifier()\n",
        "knn.fit(X_train, y_train)\n",
        "knn_pred = knn.predict(X_test)\n",
        "knn_score = accuracy_score(y_test, knn_pred)\n",
        "print(\"KNN Accuracy:\", knn_score)\n"
      ]
    },
    {
      "cell_type": "code",
      "execution_count": 99,
      "metadata": {
        "colab": {
          "base_uri": "https://localhost:8080/"
        },
        "id": "KvShy_DRBdIf",
        "outputId": "47337727-5f98-4c25-eade-b63296f383d8"
      },
      "outputs": [
        {
          "name": "stdout",
          "output_type": "stream",
          "text": [
            "Decision Tree Accuracy: 0.684301322599195\n"
          ]
        }
      ],
      "source": [
        "dtree = DecisionTreeClassifier()\n",
        "dtree.fit(X_train, y_train)\n",
        "dtree_pred = dtree.predict(X_test)\n",
        "dtree_score = accuracy_score(y_test, dtree_pred)\n",
        "print(\"Decision Tree Accuracy:\", dtree_score)\n"
      ]
    },
    {
      "cell_type": "code",
      "execution_count": 100,
      "metadata": {
        "colab": {
          "base_uri": "https://localhost:8080/"
        },
        "id": "He9y6FaWBdFr",
        "outputId": "0c8eeff9-db79-4d1c-e959-f6892929cf18"
      },
      "outputs": [
        {
          "name": "stdout",
          "output_type": "stream",
          "text": [
            "Naive Bayes Accuracy: 0.7199539965497412\n"
          ]
        }
      ],
      "source": [
        "nb = GaussianNB()\n",
        "nb.fit(X_train, y_train)\n",
        "nb_pred = nb.predict(X_test)\n",
        "nb_score = accuracy_score(y_test, nb_pred)\n",
        "print(\"Naive Bayes Accuracy:\", nb_score)\n"
      ]
    },
    {
      "cell_type": "code",
      "execution_count": 101,
      "metadata": {
        "colab": {
          "base_uri": "https://localhost:8080/"
        },
        "id": "HzAHNJDjBdCb",
        "outputId": "ccac04f1-8cbe-4e4f-e5ea-6643f1288862"
      },
      "outputs": [
        {
          "name": "stdout",
          "output_type": "stream",
          "text": [
            "SVM Accuracy: 0.7320299022426682\n"
          ]
        }
      ],
      "source": [
        "svc = SVC()\n",
        "svc.fit(X_train, y_train)\n",
        "svc_pred = svc.predict(X_test)\n",
        "svc_score = accuracy_score(y_test, svc_pred)\n",
        "print(\"SVM Accuracy:\", svc_score)\n"
      ]
    },
    {
      "cell_type": "code",
      "execution_count": 102,
      "metadata": {
        "colab": {
          "base_uri": "https://localhost:8080/",
          "height": 195
        },
        "id": "LciF3qElBc_I",
        "outputId": "0c7ee999-e051-4d8d-d037-281c1d6b3475"
      },
      "outputs": [
        {
          "data": {
            "text/html": [
              "<div>\n",
              "<style scoped>\n",
              "    .dataframe tbody tr th:only-of-type {\n",
              "        vertical-align: middle;\n",
              "    }\n",
              "\n",
              "    .dataframe tbody tr th {\n",
              "        vertical-align: top;\n",
              "    }\n",
              "\n",
              "    .dataframe thead th {\n",
              "        text-align: right;\n",
              "    }\n",
              "</style>\n",
              "<table border=\"1\" class=\"dataframe\">\n",
              "  <thead>\n",
              "    <tr style=\"text-align: right;\">\n",
              "      <th></th>\n",
              "      <th>model</th>\n",
              "      <th>accuracy</th>\n",
              "    </tr>\n",
              "  </thead>\n",
              "  <tbody>\n",
              "    <tr>\n",
              "      <th>0</th>\n",
              "      <td>KNN</td>\n",
              "      <td>0.707878</td>\n",
              "    </tr>\n",
              "    <tr>\n",
              "      <th>1</th>\n",
              "      <td>Decision Tree</td>\n",
              "      <td>0.684301</td>\n",
              "    </tr>\n",
              "    <tr>\n",
              "      <th>2</th>\n",
              "      <td>Naive Bayes</td>\n",
              "      <td>0.719954</td>\n",
              "    </tr>\n",
              "    <tr>\n",
              "      <th>3</th>\n",
              "      <td>SVM</td>\n",
              "      <td>0.732030</td>\n",
              "    </tr>\n",
              "  </tbody>\n",
              "</table>\n",
              "</div>"
            ],
            "text/plain": [
              "           model  accuracy\n",
              "0            KNN  0.707878\n",
              "1  Decision Tree  0.684301\n",
              "2    Naive Bayes  0.719954\n",
              "3            SVM  0.732030"
            ]
          },
          "execution_count": 102,
          "metadata": {},
          "output_type": "execute_result"
        }
      ],
      "source": [
        "results = pd.DataFrame(dict(model=['KNN',\n",
        "                              'Decision Tree',\n",
        "                              'Naive Bayes',\n",
        "                              'SVM'],accuracy=[knn_score, dtree_score,\n",
        "                                               nb_score, svc_score]))\n",
        "\n",
        "results"
      ]
    },
    {
      "cell_type": "code",
      "execution_count": 103,
      "metadata": {
        "colab": {
          "base_uri": "https://localhost:8080/",
          "height": 570
        },
        "id": "DNhqKpEgwvbr",
        "outputId": "e3e7afb2-a32a-453a-efca-33f23a7b64ec"
      },
      "outputs": [
        {
          "data": {
            "image/png": "[encoded data removed]",
            "text/plain": [
              "<Figure size 640x480 with 1 Axes>"
            ]
          },
          "metadata": {},
          "output_type": "display_data"
        }
      ],
      "source": [
        "results.plot(kind='bar',x='model',y='accuracy',title='Model Accuracy',legend=False,\n",
        "        color=['#1F77B4', '#FF7F0E', '#2CA02C'])\n",
        "plt.ylim(0.5,1);"
      ]
    },
    {
      "cell_type": "code",
      "execution_count": 104,
      "metadata": {
        "id": "aIRnAuxCETvv"
      },
      "outputs": [],
      "source": [
        "### SECOND TRAINING APPLYING SOME TRANSFORMATIONS ON THE NUMERICAL DATA AND DROPPING THOSE WITH SMALLER CORRELATIONS"
      ]
    },
    {
      "cell_type": "code",
      "execution_count": 105,
      "metadata": {
        "colab": {
          "base_uri": "https://localhost:8080/",
          "height": 226
        },
        "id": "U4LZLNrhETrS",
        "outputId": "c7a8b3de-5ca3-4b8a-907e-79f87074483e"
      },
      "outputs": [
        {
          "data": {
            "text/html": [
              "<div>\n",
              "<style scoped>\n",
              "    .dataframe tbody tr th:only-of-type {\n",
              "        vertical-align: middle;\n",
              "    }\n",
              "\n",
              "    .dataframe tbody tr th {\n",
              "        vertical-align: top;\n",
              "    }\n",
              "\n",
              "    .dataframe thead th {\n",
              "        text-align: right;\n",
              "    }\n",
              "</style>\n",
              "<table border=\"1\" class=\"dataframe\">\n",
              "  <thead>\n",
              "    <tr style=\"text-align: right;\">\n",
              "      <th></th>\n",
              "      <th>HomePlanet</th>\n",
              "      <th>CryoSleep</th>\n",
              "      <th>Destination</th>\n",
              "      <th>Age</th>\n",
              "      <th>VIP</th>\n",
              "      <th>Transported</th>\n",
              "      <th>Deck</th>\n",
              "      <th>Port</th>\n",
              "      <th>TotalSpend</th>\n",
              "    </tr>\n",
              "  </thead>\n",
              "  <tbody>\n",
              "    <tr>\n",
              "      <th>0</th>\n",
              "      <td>2</td>\n",
              "      <td>0</td>\n",
              "      <td>1</td>\n",
              "      <td>39.0</td>\n",
              "      <td>0</td>\n",
              "      <td>False</td>\n",
              "      <td>0</td>\n",
              "      <td>0</td>\n",
              "      <td>0.0</td>\n",
              "    </tr>\n",
              "    <tr>\n",
              "      <th>1</th>\n",
              "      <td>1</td>\n",
              "      <td>0</td>\n",
              "      <td>1</td>\n",
              "      <td>24.0</td>\n",
              "      <td>0</td>\n",
              "      <td>True</td>\n",
              "      <td>1</td>\n",
              "      <td>1</td>\n",
              "      <td>736.0</td>\n",
              "    </tr>\n",
              "    <tr>\n",
              "      <th>2</th>\n",
              "      <td>2</td>\n",
              "      <td>0</td>\n",
              "      <td>1</td>\n",
              "      <td>58.0</td>\n",
              "      <td>1</td>\n",
              "      <td>False</td>\n",
              "      <td>2</td>\n",
              "      <td>1</td>\n",
              "      <td>10383.0</td>\n",
              "    </tr>\n",
              "    <tr>\n",
              "      <th>3</th>\n",
              "      <td>2</td>\n",
              "      <td>0</td>\n",
              "      <td>1</td>\n",
              "      <td>33.0</td>\n",
              "      <td>0</td>\n",
              "      <td>False</td>\n",
              "      <td>2</td>\n",
              "      <td>1</td>\n",
              "      <td>5176.0</td>\n",
              "    </tr>\n",
              "    <tr>\n",
              "      <th>4</th>\n",
              "      <td>1</td>\n",
              "      <td>0</td>\n",
              "      <td>1</td>\n",
              "      <td>16.0</td>\n",
              "      <td>0</td>\n",
              "      <td>True</td>\n",
              "      <td>1</td>\n",
              "      <td>1</td>\n",
              "      <td>1091.0</td>\n",
              "    </tr>\n",
              "  </tbody>\n",
              "</table>\n",
              "</div>"
            ],
            "text/plain": [
              "   HomePlanet  CryoSleep  Destination   Age  VIP  Transported  Deck  Port  \\\n",
              "0           2          0            1  39.0    0        False     0     0   \n",
              "1           1          0            1  24.0    0         True     1     1   \n",
              "2           2          0            1  58.0    1        False     2     1   \n",
              "3           2          0            1  33.0    0        False     2     1   \n",
              "4           1          0            1  16.0    0         True     1     1   \n",
              "\n",
              "   TotalSpend  \n",
              "0         0.0  \n",
              "1       736.0  \n",
              "2     10383.0  \n",
              "3      5176.0  \n",
              "4      1091.0  "
            ]
          },
          "execution_count": 105,
          "metadata": {},
          "output_type": "execute_result"
        }
      ],
      "source": [
        "df.head()"
      ]
    },
    {
      "cell_type": "code",
      "execution_count": 106,
      "metadata": {
        "id": "NlggbQMUETnN"
      },
      "outputs": [],
      "source": [
        "df = df.drop(['Deck', 'Port'], axis=1)"
      ]
    },
    {
      "cell_type": "code",
      "execution_count": 107,
      "metadata": {
        "id": "-pri-KmKETii"
      },
      "outputs": [],
      "source": [
        "# For Standardization (Z-score normalization)\n",
        "scaler = StandardScaler()\n",
        "df['Age'] = scaler.fit_transform(df[['Age']])\n",
        "df['TotalSpend'] = scaler.fit_transform(df[['TotalSpend']])"
      ]
    },
    {
      "cell_type": "code",
      "execution_count": 108,
      "metadata": {
        "colab": {
          "base_uri": "https://localhost:8080/",
          "height": 226
        },
        "id": "DAsFeGwsqm6t",
        "outputId": "8149ec67-1770-4f8e-814c-3a736e565690"
      },
      "outputs": [
        {
          "data": {
            "text/html": [
              "<div>\n",
              "<style scoped>\n",
              "    .dataframe tbody tr th:only-of-type {\n",
              "        vertical-align: middle;\n",
              "    }\n",
              "\n",
              "    .dataframe tbody tr th {\n",
              "        vertical-align: top;\n",
              "    }\n",
              "\n",
              "    .dataframe thead th {\n",
              "        text-align: right;\n",
              "    }\n",
              "</style>\n",
              "<table border=\"1\" class=\"dataframe\">\n",
              "  <thead>\n",
              "    <tr style=\"text-align: right;\">\n",
              "      <th></th>\n",
              "      <th>HomePlanet</th>\n",
              "      <th>CryoSleep</th>\n",
              "      <th>Destination</th>\n",
              "      <th>Age</th>\n",
              "      <th>VIP</th>\n",
              "      <th>Transported</th>\n",
              "      <th>TotalSpend</th>\n",
              "    </tr>\n",
              "  </thead>\n",
              "  <tbody>\n",
              "    <tr>\n",
              "      <th>0</th>\n",
              "      <td>2</td>\n",
              "      <td>0</td>\n",
              "      <td>1</td>\n",
              "      <td>0.709437</td>\n",
              "      <td>0</td>\n",
              "      <td>False</td>\n",
              "      <td>-0.525934</td>\n",
              "    </tr>\n",
              "    <tr>\n",
              "      <th>1</th>\n",
              "      <td>1</td>\n",
              "      <td>0</td>\n",
              "      <td>1</td>\n",
              "      <td>-0.336717</td>\n",
              "      <td>0</td>\n",
              "      <td>True</td>\n",
              "      <td>-0.263054</td>\n",
              "    </tr>\n",
              "    <tr>\n",
              "      <th>2</th>\n",
              "      <td>2</td>\n",
              "      <td>0</td>\n",
              "      <td>1</td>\n",
              "      <td>2.034566</td>\n",
              "      <td>1</td>\n",
              "      <td>False</td>\n",
              "      <td>3.182605</td>\n",
              "    </tr>\n",
              "    <tr>\n",
              "      <th>3</th>\n",
              "      <td>2</td>\n",
              "      <td>0</td>\n",
              "      <td>1</td>\n",
              "      <td>0.290975</td>\n",
              "      <td>0</td>\n",
              "      <td>False</td>\n",
              "      <td>1.322799</td>\n",
              "    </tr>\n",
              "    <tr>\n",
              "      <th>4</th>\n",
              "      <td>1</td>\n",
              "      <td>0</td>\n",
              "      <td>1</td>\n",
              "      <td>-0.894666</td>\n",
              "      <td>0</td>\n",
              "      <td>True</td>\n",
              "      <td>-0.136257</td>\n",
              "    </tr>\n",
              "  </tbody>\n",
              "</table>\n",
              "</div>"
            ],
            "text/plain": [
              "   HomePlanet  CryoSleep  Destination       Age  VIP  Transported  TotalSpend\n",
              "0           2          0            1  0.709437    0        False   -0.525934\n",
              "1           1          0            1 -0.336717    0         True   -0.263054\n",
              "2           2          0            1  2.034566    1        False    3.182605\n",
              "3           2          0            1  0.290975    0        False    1.322799\n",
              "4           1          0            1 -0.894666    0         True   -0.136257"
            ]
          },
          "execution_count": 108,
          "metadata": {},
          "output_type": "execute_result"
        }
      ],
      "source": [
        "df.head(5)"
      ]
    },
    {
      "cell_type": "code",
      "execution_count": 109,
      "metadata": {
        "colab": {
          "base_uri": "https://localhost:8080/",
          "height": 289
        },
        "id": "i8xMxMs0qq6j",
        "outputId": "6ed73348-a2d1-43b8-f843-586290bca00c"
      },
      "outputs": [
        {
          "data": {
            "text/html": [
              "<div>\n",
              "<style scoped>\n",
              "    .dataframe tbody tr th:only-of-type {\n",
              "        vertical-align: middle;\n",
              "    }\n",
              "\n",
              "    .dataframe tbody tr th {\n",
              "        vertical-align: top;\n",
              "    }\n",
              "\n",
              "    .dataframe thead th {\n",
              "        text-align: right;\n",
              "    }\n",
              "</style>\n",
              "<table border=\"1\" class=\"dataframe\">\n",
              "  <thead>\n",
              "    <tr style=\"text-align: right;\">\n",
              "      <th></th>\n",
              "      <th>HomePlanet</th>\n",
              "      <th>CryoSleep</th>\n",
              "      <th>Destination</th>\n",
              "      <th>Age</th>\n",
              "      <th>VIP</th>\n",
              "      <th>Transported</th>\n",
              "      <th>TotalSpend</th>\n",
              "    </tr>\n",
              "  </thead>\n",
              "  <tbody>\n",
              "    <tr>\n",
              "      <th>HomePlanet</th>\n",
              "      <td>1.000000</td>\n",
              "      <td>0.083586</td>\n",
              "      <td>-0.034737</td>\n",
              "      <td>0.133888</td>\n",
              "      <td>0.123512</td>\n",
              "      <td>0.115461</td>\n",
              "      <td>0.150317</td>\n",
              "    </tr>\n",
              "    <tr>\n",
              "      <th>CryoSleep</th>\n",
              "      <td>0.083586</td>\n",
              "      <td>1.000000</td>\n",
              "      <td>0.096287</td>\n",
              "      <td>-0.070736</td>\n",
              "      <td>-0.078281</td>\n",
              "      <td>0.460132</td>\n",
              "      <td>-0.376500</td>\n",
              "    </tr>\n",
              "    <tr>\n",
              "      <th>Destination</th>\n",
              "      <td>-0.034737</td>\n",
              "      <td>0.096287</td>\n",
              "      <td>1.000000</td>\n",
              "      <td>0.006619</td>\n",
              "      <td>0.044707</td>\n",
              "      <td>0.108152</td>\n",
              "      <td>0.099205</td>\n",
              "    </tr>\n",
              "    <tr>\n",
              "      <th>Age</th>\n",
              "      <td>0.133888</td>\n",
              "      <td>-0.070736</td>\n",
              "      <td>0.006619</td>\n",
              "      <td>1.000000</td>\n",
              "      <td>0.091574</td>\n",
              "      <td>-0.074249</td>\n",
              "      <td>0.184509</td>\n",
              "    </tr>\n",
              "    <tr>\n",
              "      <th>VIP</th>\n",
              "      <td>0.123512</td>\n",
              "      <td>-0.078281</td>\n",
              "      <td>0.044707</td>\n",
              "      <td>0.091574</td>\n",
              "      <td>1.000000</td>\n",
              "      <td>-0.037261</td>\n",
              "      <td>0.163187</td>\n",
              "    </tr>\n",
              "    <tr>\n",
              "      <th>Transported</th>\n",
              "      <td>0.115461</td>\n",
              "      <td>0.460132</td>\n",
              "      <td>0.108152</td>\n",
              "      <td>-0.074249</td>\n",
              "      <td>-0.037261</td>\n",
              "      <td>1.000000</td>\n",
              "      <td>-0.199445</td>\n",
              "    </tr>\n",
              "    <tr>\n",
              "      <th>TotalSpend</th>\n",
              "      <td>0.150317</td>\n",
              "      <td>-0.376500</td>\n",
              "      <td>0.099205</td>\n",
              "      <td>0.184509</td>\n",
              "      <td>0.163187</td>\n",
              "      <td>-0.199445</td>\n",
              "      <td>1.000000</td>\n",
              "    </tr>\n",
              "  </tbody>\n",
              "</table>\n",
              "</div>"
            ],
            "text/plain": [
              "             HomePlanet  CryoSleep  Destination       Age       VIP  \\\n",
              "HomePlanet     1.000000   0.083586    -0.034737  0.133888  0.123512   \n",
              "CryoSleep      0.083586   1.000000     0.096287 -0.070736 -0.078281   \n",
              "Destination   -0.034737   0.096287     1.000000  0.006619  0.044707   \n",
              "Age            0.133888  -0.070736     0.006619  1.000000  0.091574   \n",
              "VIP            0.123512  -0.078281     0.044707  0.091574  1.000000   \n",
              "Transported    0.115461   0.460132     0.108152 -0.074249 -0.037261   \n",
              "TotalSpend     0.150317  -0.376500     0.099205  0.184509  0.163187   \n",
              "\n",
              "             Transported  TotalSpend  \n",
              "HomePlanet      0.115461    0.150317  \n",
              "CryoSleep       0.460132   -0.376500  \n",
              "Destination     0.108152    0.099205  \n",
              "Age            -0.074249    0.184509  \n",
              "VIP            -0.037261    0.163187  \n",
              "Transported     1.000000   -0.199445  \n",
              "TotalSpend     -0.199445    1.000000  "
            ]
          },
          "execution_count": 109,
          "metadata": {},
          "output_type": "execute_result"
        }
      ],
      "source": [
        "correlation_matrix = df.corr()\n",
        "correlation_matrix"
      ]
    },
    {
      "cell_type": "code",
      "execution_count": 110,
      "metadata": {
        "id": "f-wRCfl9qylK"
      },
      "outputs": [],
      "source": [
        "### SAVE TRAIN 2\n",
        "\n",
        "filename =  pathlib.Path(filepath).stem + \"_cleaned_2.csv\"\n",
        "file_dest_path = pathlib.Path(\"./\") / filename\n",
        "df.to_csv(file_dest_path, index=False)"
      ]
    },
    {
      "cell_type": "code",
      "execution_count": 111,
      "metadata": {
        "id": "qd67G7yl8xYQ"
      },
      "outputs": [],
      "source": [
        "df_train_2 = pd.read_csv(\"./train_cleaned_2.csv\")\n",
        "# 1. Train Test Split\n",
        "X = df_train_2.drop(\"Transported\", axis=1).values\n",
        "y = df_train_2[\"Transported\"].values"
      ]
    },
    {
      "cell_type": "code",
      "execution_count": 112,
      "metadata": {
        "colab": {
          "base_uri": "https://localhost:8080/"
        },
        "id": "obqyzV2PrQVF",
        "outputId": "43c8e87e-9538-44dd-e028-2241f4552133"
      },
      "outputs": [
        {
          "data": {
            "text/plain": [
              "((6954, 6), (6954,), (1739, 6), (1739,))"
            ]
          },
          "execution_count": 112,
          "metadata": {},
          "output_type": "execute_result"
        }
      ],
      "source": [
        "X_train,X_test,y_train,y_test = train_test_split(X,y,test_size=0.2,random_state=42)\n",
        "\n",
        "X_train.shape,y_train.shape, X_test.shape, y_test.shape"
      ]
    },
    {
      "cell_type": "code",
      "execution_count": 113,
      "metadata": {
        "colab": {
          "base_uri": "https://localhost:8080/"
        },
        "id": "bEs9vxnIrWyY",
        "outputId": "1bc1185f-5179-490c-b2f1-e9afa79bab31"
      },
      "outputs": [
        {
          "name": "stdout",
          "output_type": "stream",
          "text": [
            "KNN Accuracy: 0.6998274870615296\n"
          ]
        }
      ],
      "source": [
        "knn = KNeighborsClassifier()\n",
        "knn.fit(X_train, y_train)\n",
        "knn_pred = knn.predict(X_test)\n",
        "knn_score = accuracy_score(y_test, knn_pred)\n",
        "print(\"KNN Accuracy:\", knn_score)"
      ]
    },
    {
      "cell_type": "code",
      "execution_count": 114,
      "metadata": {
        "colab": {
          "base_uri": "https://localhost:8080/"
        },
        "id": "yhY76AnrrawP",
        "outputId": "b1d5ece7-8978-4a28-e94f-45a365551099"
      },
      "outputs": [
        {
          "name": "stdout",
          "output_type": "stream",
          "text": [
            "Decision Tree Accuracy: 0.6538240368027602\n"
          ]
        }
      ],
      "source": [
        "dtree = DecisionTreeClassifier()\n",
        "dtree.fit(X_train, y_train)\n",
        "dtree_pred = dtree.predict(X_test)\n",
        "dtree_score = accuracy_score(y_test, dtree_pred)\n",
        "print(\"Decision Tree Accuracy:\", dtree_score)"
      ]
    },
    {
      "cell_type": "code",
      "execution_count": 115,
      "metadata": {
        "colab": {
          "base_uri": "https://localhost:8080/"
        },
        "id": "yXBKxpBZreJD",
        "outputId": "597d3c34-b34d-4512-8307-0ac3998a94d3"
      },
      "outputs": [
        {
          "name": "stdout",
          "output_type": "stream",
          "text": [
            "Naive Bayes Accuracy: 0.718803910293272\n"
          ]
        }
      ],
      "source": [
        "nb = GaussianNB()\n",
        "nb.fit(X_train, y_train)\n",
        "nb_pred = nb.predict(X_test)\n",
        "nb_score = accuracy_score(y_test, nb_pred)\n",
        "print(\"Naive Bayes Accuracy:\", nb_score)"
      ]
    },
    {
      "cell_type": "code",
      "execution_count": 116,
      "metadata": {
        "colab": {
          "base_uri": "https://localhost:8080/"
        },
        "id": "6_Ju0bLxrhCz",
        "outputId": "46ddb93c-a3c0-40c9-be27-f9c8809be59d"
      },
      "outputs": [
        {
          "name": "stdout",
          "output_type": "stream",
          "text": [
            "SVM Accuracy: 0.7412305922944221\n"
          ]
        }
      ],
      "source": [
        "svc = SVC()\n",
        "svc.fit(X_train, y_train)\n",
        "svc_pred = svc.predict(X_test)\n",
        "svc_score = accuracy_score(y_test, svc_pred)\n",
        "print(\"SVM Accuracy:\", svc_score)"
      ]
    },
    {
      "cell_type": "code",
      "execution_count": 117,
      "metadata": {
        "colab": {
          "base_uri": "https://localhost:8080/",
          "height": 195
        },
        "id": "Iv64H16Prjtz",
        "outputId": "240b0956-9877-4987-b8b4-a10f59bbf0c4"
      },
      "outputs": [
        {
          "data": {
            "text/html": [
              "<div>\n",
              "<style scoped>\n",
              "    .dataframe tbody tr th:only-of-type {\n",
              "        vertical-align: middle;\n",
              "    }\n",
              "\n",
              "    .dataframe tbody tr th {\n",
              "        vertical-align: top;\n",
              "    }\n",
              "\n",
              "    .dataframe thead th {\n",
              "        text-align: right;\n",
              "    }\n",
              "</style>\n",
              "<table border=\"1\" class=\"dataframe\">\n",
              "  <thead>\n",
              "    <tr style=\"text-align: right;\">\n",
              "      <th></th>\n",
              "      <th>model</th>\n",
              "      <th>accuracy</th>\n",
              "    </tr>\n",
              "  </thead>\n",
              "  <tbody>\n",
              "    <tr>\n",
              "      <th>0</th>\n",
              "      <td>KNN</td>\n",
              "      <td>0.699827</td>\n",
              "    </tr>\n",
              "    <tr>\n",
              "      <th>1</th>\n",
              "      <td>Decision Tree</td>\n",
              "      <td>0.653824</td>\n",
              "    </tr>\n",
              "    <tr>\n",
              "      <th>2</th>\n",
              "      <td>Naive Bayes</td>\n",
              "      <td>0.718804</td>\n",
              "    </tr>\n",
              "    <tr>\n",
              "      <th>3</th>\n",
              "      <td>SVM</td>\n",
              "      <td>0.741231</td>\n",
              "    </tr>\n",
              "  </tbody>\n",
              "</table>\n",
              "</div>"
            ],
            "text/plain": [
              "           model  accuracy\n",
              "0            KNN  0.699827\n",
              "1  Decision Tree  0.653824\n",
              "2    Naive Bayes  0.718804\n",
              "3            SVM  0.741231"
            ]
          },
          "execution_count": 117,
          "metadata": {},
          "output_type": "execute_result"
        }
      ],
      "source": [
        "results = pd.DataFrame(dict(model=['KNN',\n",
        "                              'Decision Tree',\n",
        "                              'Naive Bayes',\n",
        "                              'SVM'],accuracy=[knn_score, dtree_score,\n",
        "                                               nb_score, svc_score]))\n",
        "\n",
        "results"
      ]
    },
    {
      "cell_type": "code",
      "execution_count": 118,
      "metadata": {
        "colab": {
          "base_uri": "https://localhost:8080/",
          "height": 570
        },
        "id": "6tjMU9zGrnzj",
        "outputId": "30da9e8d-e877-458f-cc70-ec965db3ea46"
      },
      "outputs": [
        {
          "data": {
            "image/png": "[encoded data removed]",
            "text/plain": [
              "<Figure size 640x480 with 1 Axes>"
            ]
          },
          "metadata": {},
          "output_type": "display_data"
        }
      ],
      "source": [
        "results.plot(kind='bar',x='model',y='accuracy',title='Model Accuracy',legend=False,\n",
        "        color=['#1F77B4', '#FF7F0E', '#2CA02C'])\n",
        "plt.ylim(0.5,1);"
      ]
    },
    {
      "cell_type": "code",
      "execution_count": 119,
      "metadata": {
        "id": "Djf6fConrsPU"
      },
      "outputs": [],
      "source": [
        "### try some hyper parameter optimization\n"
      ]
    },
    {
      "cell_type": "code",
      "execution_count": 120,
      "metadata": {
        "colab": {
          "base_uri": "https://localhost:8080/"
        },
        "id": "vviKbB1mssTw",
        "outputId": "31387e2f-1bbb-4e82-f0f5-454ffe77861e"
      },
      "outputs": [
        {
          "name": "stdout",
          "output_type": "stream",
          "text": [
            "KNN Best Parameters: {'metric': 'euclidean', 'n_neighbors': 9, 'weights': 'uniform'}\n",
            "KNN Accuracy: 0.7165037377803335\n",
            "Decision Tree Best Parameters: {'criterion': 'entropy', 'max_depth': 10, 'min_samples_split': 5}\n",
            "Decision Tree Accuracy: 0.721679125934445\n",
            "Naive Bayes Accuracy: 0.718803910293272\n",
            "SVM Best Parameters: {'C': 10, 'gamma': 'auto', 'kernel': 'rbf'}\n",
            "SVM Accuracy: 0.7464059804485337\n"
          ]
        }
      ],
      "source": [
        "\n",
        "\n",
        "# KNN with Hyperparameter Optimization\n",
        "knn = KNeighborsClassifier()\n",
        "knn_param_grid = {\n",
        "    'n_neighbors': [3, 5, 7, 9],\n",
        "    'weights': ['uniform', 'distance'],\n",
        "    'metric': ['euclidean', 'manhattan']\n",
        "}\n",
        "knn_grid_search = GridSearchCV(knn, knn_param_grid, cv=5, scoring='accuracy')\n",
        "knn_grid_search.fit(X_train, y_train)\n",
        "knn_best_model = knn_grid_search.best_estimator_\n",
        "knn_pred = knn_best_model.predict(X_test)\n",
        "knn_score = accuracy_score(y_test, knn_pred)\n",
        "print(\"KNN Best Parameters:\", knn_grid_search.best_params_)\n",
        "print(\"KNN Accuracy:\", knn_score)\n",
        "\n",
        "# Decision Tree with Hyperparameter Optimization\n",
        "dtree = DecisionTreeClassifier()\n",
        "dtree_param_grid = {\n",
        "    'criterion': ['gini', 'entropy'],\n",
        "    'max_depth': [None, 10, 20, 30],\n",
        "    'min_samples_split': [2, 5, 10]\n",
        "}\n",
        "dtree_grid_search = GridSearchCV(dtree, dtree_param_grid, cv=5, scoring='accuracy')\n",
        "dtree_grid_search.fit(X_train, y_train)\n",
        "dtree_best_model = dtree_grid_search.best_estimator_\n",
        "dtree_pred = dtree_best_model.predict(X_test)\n",
        "dtree_score = accuracy_score(y_test, dtree_pred)\n",
        "print(\"Decision Tree Best Parameters:\", dtree_grid_search.best_params_)\n",
        "print(\"Decision Tree Accuracy:\", dtree_score)\n",
        "\n",
        "# Naive Bayes (usually does not require much hyperparameter tuning)\n",
        "nb = GaussianNB()\n",
        "nb.fit(X_train, y_train)\n",
        "nb_pred = nb.predict(X_test)\n",
        "nb_score = accuracy_score(y_test, nb_pred)\n",
        "print(\"Naive Bayes Accuracy:\", nb_score)\n",
        "\n",
        "# SVM with Hyperparameter Optimization\n",
        "svc = SVC()\n",
        "svc_param_grid = {\n",
        "    'C': [0.1, 1, 10], # removed 10\n",
        "    'gamma': ['scale', 'auto'], # removed auto\n",
        "    'kernel': ['linear', 'rbf', 'poly'] # removed poly\n",
        "}\n",
        "svc_grid_search = GridSearchCV(svc, svc_param_grid, cv=5, scoring='accuracy')\n",
        "svc_grid_search.fit(X_train, y_train)\n",
        "svc_best_model = svc_grid_search.best_estimator_\n",
        "svc_pred = svc_best_model.predict(X_test)\n",
        "svc_score = accuracy_score(y_test, svc_pred)\n",
        "print(\"SVM Best Parameters:\", svc_grid_search.best_params_)\n",
        "print(\"SVM Accuracy:\", svc_score)\n"
      ]
    },
    {
      "cell_type": "code",
      "execution_count": 60,
      "metadata": {
        "id": "F8LKMgoXstbD"
      },
      "outputs": [],
      "source": []
    }
  ],
  "metadata": {
    "colab": {
      "provenance": []
    },
    "kernelspec": {
      "display_name": "Python 3",
      "name": "python3"
    },
    "language_info": {
      "codemirror_mode": {
        "name": "ipython",
        "version": 3
      },
      "file_extension": ".py",
      "mimetype": "text/x-python",
      "name": "python",
      "nbconvert_exporter": "python",
      "pygments_lexer": "ipython3",
      "version": "3.12.4"
    }
  },
  "nbformat": 4,
  "nbformat_minor": 0
}
